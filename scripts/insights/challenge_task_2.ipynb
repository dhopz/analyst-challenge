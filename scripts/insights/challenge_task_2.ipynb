{
 "cells": [
  {
   "cell_type": "code",
   "execution_count": 1,
   "metadata": {},
   "outputs": [],
   "source": [
    "import sys\n",
    "import pandas as pd\n",
    "sys.path.append('..')\n",
    "from common.base import session\n"
   ]
  },
  {
   "cell_type": "code",
   "execution_count": 3,
   "metadata": {},
   "outputs": [],
   "source": [
    "data = session.execute('''\n",
    "SELECT \n",
    "drive.vehicle_spec_id, \n",
    "trip_id,\n",
    "ROUND(AVG(eng_load/255)*100,2) AS average_eng_load_perc,\n",
    "ROUND(AVG(velocity),2) AS average_velocity,\n",
    "ROUND(MAX((drive.fuel_level / 255) * vehicle.fuel_tank_capacity),2) - ROUND(MIN((drive.fuel_level / 255) * vehicle.fuel_tank_capacity),2) AS fuel_used\n",
    "FROM drive\n",
    "INNER JOIN vehicle on vehicle.vehicle_spec_id = drive.vehicle_spec_id\n",
    "GROUP BY trip_id, drive.vehicle_spec_id;\n",
    "''').all()\n"
   ]
  },
  {
   "cell_type": "code",
   "execution_count": 5,
   "metadata": {},
   "outputs": [
    {
     "data": {
      "text/html": [
       "<div>\n",
       "<style scoped>\n",
       "    .dataframe tbody tr th:only-of-type {\n",
       "        vertical-align: middle;\n",
       "    }\n",
       "\n",
       "    .dataframe tbody tr th {\n",
       "        vertical-align: top;\n",
       "    }\n",
       "\n",
       "    .dataframe thead th {\n",
       "        text-align: right;\n",
       "    }\n",
       "</style>\n",
       "<table border=\"1\" class=\"dataframe\">\n",
       "  <thead>\n",
       "    <tr style=\"text-align: right;\">\n",
       "      <th></th>\n",
       "      <th>vehicle_spec_id</th>\n",
       "      <th>trip_id</th>\n",
       "      <th>average_eng_load_perc</th>\n",
       "      <th>average_velocity</th>\n",
       "      <th>fuel_used</th>\n",
       "    </tr>\n",
       "  </thead>\n",
       "  <tbody>\n",
       "    <tr>\n",
       "      <th>0</th>\n",
       "      <td>1000507</td>\n",
       "      <td>00922df3be5a4589ab385d0c2da2dd81</td>\n",
       "      <td>79.97</td>\n",
       "      <td>57.00</td>\n",
       "      <td>8.60</td>\n",
       "    </tr>\n",
       "    <tr>\n",
       "      <th>1</th>\n",
       "      <td>1000506</td>\n",
       "      <td>01b8a24510cd4e4684d67b96369286e0</td>\n",
       "      <td>75.22</td>\n",
       "      <td>65.71</td>\n",
       "      <td>9.33</td>\n",
       "    </tr>\n",
       "    <tr>\n",
       "      <th>2</th>\n",
       "      <td>1000501</td>\n",
       "      <td>0244f7bc747b41fba6fcd75444736621</td>\n",
       "      <td>84.23</td>\n",
       "      <td>65.92</td>\n",
       "      <td>7.17</td>\n",
       "    </tr>\n",
       "    <tr>\n",
       "      <th>3</th>\n",
       "      <td>1000507</td>\n",
       "      <td>02c51e56cc484711b218d3d01196687a</td>\n",
       "      <td>79.18</td>\n",
       "      <td>53.97</td>\n",
       "      <td>9.46</td>\n",
       "    </tr>\n",
       "    <tr>\n",
       "      <th>4</th>\n",
       "      <td>1000502</td>\n",
       "      <td>039c14a9a7df4096bb6e9445136fdf77</td>\n",
       "      <td>80.42</td>\n",
       "      <td>65.80</td>\n",
       "      <td>10.57</td>\n",
       "    </tr>\n",
       "  </tbody>\n",
       "</table>\n",
       "</div>"
      ],
      "text/plain": [
       "   vehicle_spec_id                           trip_id average_eng_load_perc  \\\n",
       "0          1000507  00922df3be5a4589ab385d0c2da2dd81                 79.97   \n",
       "1          1000506  01b8a24510cd4e4684d67b96369286e0                 75.22   \n",
       "2          1000501  0244f7bc747b41fba6fcd75444736621                 84.23   \n",
       "3          1000507  02c51e56cc484711b218d3d01196687a                 79.18   \n",
       "4          1000502  039c14a9a7df4096bb6e9445136fdf77                 80.42   \n",
       "\n",
       "  average_velocity fuel_used  \n",
       "0            57.00      8.60  \n",
       "1            65.71      9.33  \n",
       "2            65.92      7.17  \n",
       "3            53.97      9.46  \n",
       "4            65.80     10.57  "
      ]
     },
     "execution_count": 5,
     "metadata": {},
     "output_type": "execute_result"
    }
   ],
   "source": [
    "df = pd.DataFrame(data, columns=['vehicle_spec_id','trip_id','average_eng_load_perc','average_velocity','fuel_used'])\n",
    "df.head()"
   ]
  }
 ],
 "metadata": {
  "interpreter": {
   "hash": "31f2aee4e71d21fbe5cf8b01ff0e069b9275f58929596ceb00d14d90e3e16cd6"
  },
  "kernelspec": {
   "display_name": "Python 3.8.9 64-bit",
   "language": "python",
   "name": "python3"
  },
  "language_info": {
   "codemirror_mode": {
    "name": "ipython",
    "version": 3
   },
   "file_extension": ".py",
   "mimetype": "text/x-python",
   "name": "python",
   "nbconvert_exporter": "python",
   "pygments_lexer": "ipython3",
   "version": "3.8.9"
  },
  "orig_nbformat": 4
 },
 "nbformat": 4,
 "nbformat_minor": 2
}
