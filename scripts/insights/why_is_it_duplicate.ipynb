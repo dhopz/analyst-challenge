{
 "cells": [
  {
   "cell_type": "code",
   "execution_count": 1,
   "metadata": {},
   "outputs": [],
   "source": [
    "import pandas as pd\n",
    "import numpy as np\n",
    "import geopy.distance\n",
    "import os\n",
    "import sys\n",
    "\n",
    "sys.path.append('..')\n",
    "from common.base import session, engine"
   ]
  },
  {
   "cell_type": "code",
   "execution_count": 2,
   "metadata": {},
   "outputs": [],
   "source": [
    "def distancer(row):\n",
    "    coords_1 = (row['lat'], row['long'])\n",
    "    coords_2 = (row['next_lat'], row['next_long'])\n",
    "    return geopy.distance.distance(coords_1, coords_2).km\n",
    "\n",
    "def create_dataframe():\n",
    "    data = session.execute(\n",
    "        '''\n",
    "        SELECT datetime, trip_id, make, model, lat, long, velocity\n",
    "        FROM drive\n",
    "        INNER JOIN vehicle on vehicle.vehicle_spec_id = drive.vehicle_spec_id;'''\n",
    "        ).all()\n",
    "\n",
    "    df = pd.DataFrame(data, columns=['Datetime','trip_id','make','model','lat','long','velocity'])\n",
    "\n",
    "    return df\n"
   ]
  },
  {
   "cell_type": "code",
   "execution_count": 3,
   "metadata": {},
   "outputs": [],
   "source": [
    "df = create_dataframe()\n",
    "\n",
    "#Manipulate data to get distance travelled using function Distancer \n",
    "df['next_lat'] = df.groupby('trip_id')['lat'].shift(1)\n",
    "df['next_long'] = df.groupby('trip_id')['long'].shift(1)\n",
    "df['next_lat'].fillna(df['lat'], inplace=True)\n",
    "df['next_long'].fillna(df['long'], inplace=True)"
   ]
  },
  {
   "cell_type": "code",
   "execution_count": 5,
   "metadata": {},
   "outputs": [
    {
     "data": {
      "text/plain": [
       "(355208, 9)"
      ]
     },
     "execution_count": 5,
     "metadata": {},
     "output_type": "execute_result"
    }
   ],
   "source": [
    "df.shape"
   ]
  },
  {
   "cell_type": "code",
   "execution_count": 6,
   "metadata": {},
   "outputs": [],
   "source": [
    " #Change dataframe to get the difference between the timestamps\n",
    "df['timestamp_end'] = df.groupby('trip_id')['Datetime'].shift(1)\n",
    "df['trip_duration_minutes'] = (df['Datetime'] - df['timestamp_end'])/np.timedelta64(1,'m')\n",
    "df['timestamp_end'].fillna(df['Datetime'], inplace=True)\n",
    "df['trip_duration_minutes'].fillna(0,inplace=True)"
   ]
  },
  {
   "cell_type": "code",
   "execution_count": 7,
   "metadata": {},
   "outputs": [
    {
     "data": {
      "text/plain": [
       "(355208, 11)"
      ]
     },
     "execution_count": 7,
     "metadata": {},
     "output_type": "execute_result"
    }
   ],
   "source": [
    "df.shape"
   ]
  },
  {
   "cell_type": "code",
   "execution_count": 8,
   "metadata": {},
   "outputs": [],
   "source": [
    "df['distance'] = df.apply(distancer, axis=1)"
   ]
  },
  {
   "cell_type": "code",
   "execution_count": 9,
   "metadata": {},
   "outputs": [
    {
     "data": {
      "text/plain": [
       "(355208, 12)"
      ]
     },
     "execution_count": 9,
     "metadata": {},
     "output_type": "execute_result"
    }
   ],
   "source": [
    "df.shape"
   ]
  },
  {
   "cell_type": "code",
   "execution_count": 10,
   "metadata": {},
   "outputs": [
    {
     "name": "stdout",
     "output_type": "stream",
     "text": [
      "Dataframe lat and lon calculation exported to PSQL\n"
     ]
    }
   ],
   "source": [
    "conn = engine.connect()\n",
    "df.to_sql('daily_trip_long_lat_calc', conn, if_exists='replace')\n",
    "print(\"Dataframe lat and lon calculation exported to PSQL\")"
   ]
  }
 ],
 "metadata": {
  "interpreter": {
   "hash": "31f2aee4e71d21fbe5cf8b01ff0e069b9275f58929596ceb00d14d90e3e16cd6"
  },
  "kernelspec": {
   "display_name": "Python 3.8.9 64-bit",
   "language": "python",
   "name": "python3"
  },
  "language_info": {
   "codemirror_mode": {
    "name": "ipython",
    "version": 3
   },
   "file_extension": ".py",
   "mimetype": "text/x-python",
   "name": "python",
   "nbconvert_exporter": "python",
   "pygments_lexer": "ipython3",
   "version": "3.8.9"
  },
  "orig_nbformat": 4
 },
 "nbformat": 4,
 "nbformat_minor": 2
}
