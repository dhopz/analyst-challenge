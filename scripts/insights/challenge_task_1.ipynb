{
 "cells": [
  {
   "cell_type": "code",
   "execution_count": 53,
   "metadata": {},
   "outputs": [],
   "source": [
    "import sys\n",
    "import pandas as pd\n",
    "import numpy as np\n",
    "import matplotlib.pyplot as plt\n",
    "sys.path.append('..')\n",
    "from common.base import session"
   ]
  },
  {
   "cell_type": "markdown",
   "metadata": {},
   "source": [
    "My first attempt was to manipulate the data using shift and group by thinking the distance was calculated between the starting Longitude and Latitude. The data suggests that per second a new reading was being added on a transactional basis. \n",
    "\n",
    "I notied longitude wasn't changing, I mapped the points on a Map and saw that it was a straight line of travel.\n",
    "\n",
    "I used a geopy distance module to calculate the difference between 2 coordinates."
   ]
  },
  {
   "cell_type": "code",
   "execution_count": 54,
   "metadata": {},
   "outputs": [],
   "source": [
    "data = session.execute('''SELECT trip_id,make,model,trip_duration_minutes,distance FROM daily_trip_long_lat_calc;''').all()\n",
    "session.rollback()\n",
    "df = pd.DataFrame(data, columns=['trip_id','make','model','trip_duration_minutes','distance_travelled'])\n",
    "df = df.groupby(['trip_id','make','model']).sum()"
   ]
  },
  {
   "cell_type": "code",
   "execution_count": 55,
   "metadata": {},
   "outputs": [
    {
     "data": {
      "text/html": [
       "<div>\n",
       "<style scoped>\n",
       "    .dataframe tbody tr th:only-of-type {\n",
       "        vertical-align: middle;\n",
       "    }\n",
       "\n",
       "    .dataframe tbody tr th {\n",
       "        vertical-align: top;\n",
       "    }\n",
       "\n",
       "    .dataframe thead th {\n",
       "        text-align: right;\n",
       "    }\n",
       "</style>\n",
       "<table border=\"1\" class=\"dataframe\">\n",
       "  <thead>\n",
       "    <tr style=\"text-align: right;\">\n",
       "      <th></th>\n",
       "      <th></th>\n",
       "      <th></th>\n",
       "      <th>trip_duration_minutes</th>\n",
       "      <th>distance_travelled</th>\n",
       "    </tr>\n",
       "    <tr>\n",
       "      <th>trip_id</th>\n",
       "      <th>make</th>\n",
       "      <th>model</th>\n",
       "      <th></th>\n",
       "      <th></th>\n",
       "    </tr>\n",
       "  </thead>\n",
       "  <tbody>\n",
       "    <tr>\n",
       "      <th>00922df3be5a4589ab385d0c2da2dd81</th>\n",
       "      <th>Audi</th>\n",
       "      <th>Q3</th>\n",
       "      <td>48.28</td>\n",
       "      <td>76.20</td>\n",
       "    </tr>\n",
       "    <tr>\n",
       "      <th>01b8a24510cd4e4684d67b96369286e0</th>\n",
       "      <th>BMW</th>\n",
       "      <th>3 Series GT</th>\n",
       "      <td>10.50</td>\n",
       "      <td>16.92</td>\n",
       "    </tr>\n",
       "    <tr>\n",
       "      <th>0244f7bc747b41fba6fcd75444736621</th>\n",
       "      <th>Jeep</th>\n",
       "      <th>Compass</th>\n",
       "      <td>9.12</td>\n",
       "      <td>16.84</td>\n",
       "    </tr>\n",
       "    <tr>\n",
       "      <th>02c51e56cc484711b218d3d01196687a</th>\n",
       "      <th>Audi</th>\n",
       "      <th>Q3</th>\n",
       "      <td>98.43</td>\n",
       "      <td>181.91</td>\n",
       "    </tr>\n",
       "    <tr>\n",
       "      <th>039c14a9a7df4096bb6e9445136fdf77</th>\n",
       "      <th>Hyundai</th>\n",
       "      <th>Creta</th>\n",
       "      <td>121.07</td>\n",
       "      <td>223.71</td>\n",
       "    </tr>\n",
       "  </tbody>\n",
       "</table>\n",
       "</div>"
      ],
      "text/plain": [
       "                                                      trip_duration_minutes  \\\n",
       "trip_id                          make    model                                \n",
       "00922df3be5a4589ab385d0c2da2dd81 Audi    Q3                           48.28   \n",
       "01b8a24510cd4e4684d67b96369286e0 BMW     3 Series GT                  10.50   \n",
       "0244f7bc747b41fba6fcd75444736621 Jeep    Compass                       9.12   \n",
       "02c51e56cc484711b218d3d01196687a Audi    Q3                           98.43   \n",
       "039c14a9a7df4096bb6e9445136fdf77 Hyundai Creta                       121.07   \n",
       "\n",
       "                                                      distance_travelled  \n",
       "trip_id                          make    model                            \n",
       "00922df3be5a4589ab385d0c2da2dd81 Audi    Q3                        76.20  \n",
       "01b8a24510cd4e4684d67b96369286e0 BMW     3 Series GT               16.92  \n",
       "0244f7bc747b41fba6fcd75444736621 Jeep    Compass                   16.84  \n",
       "02c51e56cc484711b218d3d01196687a Audi    Q3                       181.91  \n",
       "039c14a9a7df4096bb6e9445136fdf77 Hyundai Creta                    223.71  "
      ]
     },
     "execution_count": 55,
     "metadata": {},
     "output_type": "execute_result"
    }
   ],
   "source": [
    "\n",
    "df['trip_duration_minutes'] = df['trip_duration_minutes'].round(2)\n",
    "df['distance_travelled'] = df['distance_travelled'].round(2)\n",
    "df.head()"
   ]
  },
  {
   "cell_type": "code",
   "execution_count": 56,
   "metadata": {},
   "outputs": [],
   "source": [
    "session.rollback()"
   ]
  },
  {
   "cell_type": "code",
   "execution_count": 57,
   "metadata": {},
   "outputs": [],
   "source": [
    "data = session.execute('''SELECT * FROM daily_trip_long_lat_calc WHERE trip_id ='00922df3be5a4589ab385d0c2da2dd81';''').all()\n",
    "df = pd.DataFrame(data, columns=['index','Datetime','trip_id','make','model','lat','long','velocity','next_lat','next_long','timestamp_end','trip_duration_minutes','distance'])\n",
    "df = df[['Datetime','trip_id','velocity']]"
   ]
  },
  {
   "cell_type": "code",
   "execution_count": 59,
   "metadata": {},
   "outputs": [],
   "source": [
    "df['velocity'] = df['velocity'].astype(float)"
   ]
  },
  {
   "cell_type": "code",
   "execution_count": 61,
   "metadata": {},
   "outputs": [
    {
     "data": {
      "text/plain": [
       "<AxesSubplot:xlabel='Datetime'>"
      ]
     },
     "execution_count": 61,
     "metadata": {},
     "output_type": "execute_result"
    },
    {
     "data": {
      "image/png": "[encoded data removed]",
      "text/plain": [
       "<Figure size 432x288 with 1 Axes>"
      ]
     },
     "metadata": {
      "needs_background": "light"
     },
     "output_type": "display_data"
    }
   ],
   "source": [
    "df.plot.line(x='Datetime',y='velocity')\n"
   ]
  },
  {
   "cell_type": "markdown",
   "metadata": {},
   "source": [
    "My next step was to get the average velocity over the Trip ID, then calculate distance travelled based on the time. My concern is that per second, it appears there is quite a big difference in the velocity reading, for example going from 92 to 20. There is also a 0 in the data column. \n",
    "\n",
    "Appears to be more realistic but this second method would be my best approach."
   ]
  },
  {
   "cell_type": "code",
   "execution_count": 5,
   "metadata": {},
   "outputs": [
    {
     "data": {
      "text/html": [
       "<div>\n",
       "<style scoped>\n",
       "    .dataframe tbody tr th:only-of-type {\n",
       "        vertical-align: middle;\n",
       "    }\n",
       "\n",
       "    .dataframe tbody tr th {\n",
       "        vertical-align: top;\n",
       "    }\n",
       "\n",
       "    .dataframe thead th {\n",
       "        text-align: right;\n",
       "    }\n",
       "</style>\n",
       "<table border=\"1\" class=\"dataframe\">\n",
       "  <thead>\n",
       "    <tr style=\"text-align: right;\">\n",
       "      <th></th>\n",
       "      <th>index</th>\n",
       "      <th>trip_id</th>\n",
       "      <th>make</th>\n",
       "      <th>model</th>\n",
       "      <th>trip_duration_minutes</th>\n",
       "      <th>average_velocity</th>\n",
       "      <th>distance_travelled</th>\n",
       "    </tr>\n",
       "  </thead>\n",
       "  <tbody>\n",
       "    <tr>\n",
       "      <th>0</th>\n",
       "      <td>0</td>\n",
       "      <td>00922df3be5a4589ab385d0c2da2dd81</td>\n",
       "      <td>Audi</td>\n",
       "      <td>Q3</td>\n",
       "      <td>48.0</td>\n",
       "      <td>56.998002</td>\n",
       "      <td>45.598402</td>\n",
       "    </tr>\n",
       "    <tr>\n",
       "      <th>1</th>\n",
       "      <td>1</td>\n",
       "      <td>01b8a24510cd4e4684d67b96369286e0</td>\n",
       "      <td>BMW</td>\n",
       "      <td>3 Series GT</td>\n",
       "      <td>10.0</td>\n",
       "      <td>65.705864</td>\n",
       "      <td>10.950977</td>\n",
       "    </tr>\n",
       "    <tr>\n",
       "      <th>2</th>\n",
       "      <td>2</td>\n",
       "      <td>0244f7bc747b41fba6fcd75444736621</td>\n",
       "      <td>Jeep</td>\n",
       "      <td>Compass</td>\n",
       "      <td>9.0</td>\n",
       "      <td>65.921204</td>\n",
       "      <td>9.888181</td>\n",
       "    </tr>\n",
       "    <tr>\n",
       "      <th>3</th>\n",
       "      <td>3</td>\n",
       "      <td>02c51e56cc484711b218d3d01196687a</td>\n",
       "      <td>Audi</td>\n",
       "      <td>Q3</td>\n",
       "      <td>98.0</td>\n",
       "      <td>53.970758</td>\n",
       "      <td>88.152239</td>\n",
       "    </tr>\n",
       "    <tr>\n",
       "      <th>4</th>\n",
       "      <td>4</td>\n",
       "      <td>039c14a9a7df4096bb6e9445136fdf77</td>\n",
       "      <td>Hyundai</td>\n",
       "      <td>Creta</td>\n",
       "      <td>121.0</td>\n",
       "      <td>65.797894</td>\n",
       "      <td>132.692420</td>\n",
       "    </tr>\n",
       "  </tbody>\n",
       "</table>\n",
       "</div>"
      ],
      "text/plain": [
       "   index                           trip_id     make        model  \\\n",
       "0      0  00922df3be5a4589ab385d0c2da2dd81     Audi           Q3   \n",
       "1      1  01b8a24510cd4e4684d67b96369286e0      BMW  3 Series GT   \n",
       "2      2  0244f7bc747b41fba6fcd75444736621     Jeep      Compass   \n",
       "3      3  02c51e56cc484711b218d3d01196687a     Audi           Q3   \n",
       "4      4  039c14a9a7df4096bb6e9445136fdf77  Hyundai        Creta   \n",
       "\n",
       "   trip_duration_minutes  average_velocity  distance_travelled  \n",
       "0                   48.0         56.998002           45.598402  \n",
       "1                   10.0         65.705864           10.950977  \n",
       "2                    9.0         65.921204            9.888181  \n",
       "3                   98.0         53.970758           88.152239  \n",
       "4                  121.0         65.797894          132.692420  "
      ]
     },
     "execution_count": 5,
     "metadata": {},
     "output_type": "execute_result"
    }
   ],
   "source": [
    "data = session.execute('''SELECT * FROM daily_trip_velocity_calc;''').all()\n",
    "df = pd.DataFrame(data,columns=['index','trip_id','make','model','trip_duration_minutes','average_velocity','distance_travelled'])\n",
    "df.head()"
   ]
  }
 ],
 "metadata": {
  "interpreter": {
   "hash": "31f2aee4e71d21fbe5cf8b01ff0e069b9275f58929596ceb00d14d90e3e16cd6"
  },
  "kernelspec": {
   "display_name": "Python 3.8.9 64-bit",
   "language": "python",
   "name": "python3"
  },
  "language_info": {
   "codemirror_mode": {
    "name": "ipython",
    "version": 3
   },
   "file_extension": ".py",
   "mimetype": "text/x-python",
   "name": "python",
   "nbconvert_exporter": "python",
   "pygments_lexer": "ipython3",
   "version": "3.8.9"
  },
  "orig_nbformat": 4
 },
 "nbformat": 4,
 "nbformat_minor": 2
}
