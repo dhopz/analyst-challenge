{
 "cells": [
  {
   "cell_type": "code",
   "execution_count": 1,
   "metadata": {},
   "outputs": [],
   "source": [
    "import sys\n",
    "import pandas as pd\n",
    "sys.path.append('..')\n",
    "from common.base import session"
   ]
  },
  {
   "cell_type": "code",
   "execution_count": 2,
   "metadata": {},
   "outputs": [],
   "source": [
    "data = session.execute(''' SELECT trip_id,make,model,trip_duration_minutes,distance FROM daily_trip;''').all()\n",
    "df = pd.DataFrame(data, columns=['trip_id','make','model','trip_duration_minutes','distance_travelled'])\n",
    "df = df.groupby(['trip_id','make','model']).sum()"
   ]
  },
  {
   "cell_type": "code",
   "execution_count": 3,
   "metadata": {},
   "outputs": [
    {
     "data": {
      "text/html": [
       "<div>\n",
       "<style scoped>\n",
       "    .dataframe tbody tr th:only-of-type {\n",
       "        vertical-align: middle;\n",
       "    }\n",
       "\n",
       "    .dataframe tbody tr th {\n",
       "        vertical-align: top;\n",
       "    }\n",
       "\n",
       "    .dataframe thead th {\n",
       "        text-align: right;\n",
       "    }\n",
       "</style>\n",
       "<table border=\"1\" class=\"dataframe\">\n",
       "  <thead>\n",
       "    <tr style=\"text-align: right;\">\n",
       "      <th></th>\n",
       "      <th></th>\n",
       "      <th></th>\n",
       "      <th>trip_duration_minutes</th>\n",
       "      <th>distance_travelled</th>\n",
       "    </tr>\n",
       "    <tr>\n",
       "      <th>trip_id</th>\n",
       "      <th>make</th>\n",
       "      <th>model</th>\n",
       "      <th></th>\n",
       "      <th></th>\n",
       "    </tr>\n",
       "  </thead>\n",
       "  <tbody>\n",
       "    <tr>\n",
       "      <th>00922df3be5a4589ab385d0c2da2dd81</th>\n",
       "      <th>Audi</th>\n",
       "      <th>Q3</th>\n",
       "      <td>48.28</td>\n",
       "      <td>380.97</td>\n",
       "    </tr>\n",
       "    <tr>\n",
       "      <th>01b8a24510cd4e4684d67b96369286e0</th>\n",
       "      <th>BMW</th>\n",
       "      <th>3 Series GT</th>\n",
       "      <td>10.50</td>\n",
       "      <td>84.58</td>\n",
       "    </tr>\n",
       "    <tr>\n",
       "      <th>0244f7bc747b41fba6fcd75444736621</th>\n",
       "      <th>Jeep</th>\n",
       "      <th>Compass</th>\n",
       "      <td>9.12</td>\n",
       "      <td>84.21</td>\n",
       "    </tr>\n",
       "    <tr>\n",
       "      <th>02c51e56cc484711b218d3d01196687a</th>\n",
       "      <th>Audi</th>\n",
       "      <th>Q3</th>\n",
       "      <td>98.43</td>\n",
       "      <td>909.56</td>\n",
       "    </tr>\n",
       "    <tr>\n",
       "      <th>039c14a9a7df4096bb6e9445136fdf77</th>\n",
       "      <th>Hyundai</th>\n",
       "      <th>Creta</th>\n",
       "      <td>121.07</td>\n",
       "      <td>1118.54</td>\n",
       "    </tr>\n",
       "  </tbody>\n",
       "</table>\n",
       "</div>"
      ],
      "text/plain": [
       "                                                      trip_duration_minutes  \\\n",
       "trip_id                          make    model                                \n",
       "00922df3be5a4589ab385d0c2da2dd81 Audi    Q3                           48.28   \n",
       "01b8a24510cd4e4684d67b96369286e0 BMW     3 Series GT                  10.50   \n",
       "0244f7bc747b41fba6fcd75444736621 Jeep    Compass                       9.12   \n",
       "02c51e56cc484711b218d3d01196687a Audi    Q3                           98.43   \n",
       "039c14a9a7df4096bb6e9445136fdf77 Hyundai Creta                       121.07   \n",
       "\n",
       "                                                      distance_travelled  \n",
       "trip_id                          make    model                            \n",
       "00922df3be5a4589ab385d0c2da2dd81 Audi    Q3                       380.97  \n",
       "01b8a24510cd4e4684d67b96369286e0 BMW     3 Series GT               84.58  \n",
       "0244f7bc747b41fba6fcd75444736621 Jeep    Compass                   84.21  \n",
       "02c51e56cc484711b218d3d01196687a Audi    Q3                       909.56  \n",
       "039c14a9a7df4096bb6e9445136fdf77 Hyundai Creta                   1118.54  "
      ]
     },
     "execution_count": 3,
     "metadata": {},
     "output_type": "execute_result"
    }
   ],
   "source": [
    "\n",
    "df['trip_duration_minutes'] = df['trip_duration_minutes'].round(2)\n",
    "df['distance_travelled'] = df['distance_travelled'].round(2)\n",
    "df.head()"
   ]
  }
 ],
 "metadata": {
  "interpreter": {
   "hash": "31f2aee4e71d21fbe5cf8b01ff0e069b9275f58929596ceb00d14d90e3e16cd6"
  },
  "kernelspec": {
   "display_name": "Python 3.8.9 64-bit",
   "language": "python",
   "name": "python3"
  },
  "language_info": {
   "codemirror_mode": {
    "name": "ipython",
    "version": 3
   },
   "file_extension": ".py",
   "mimetype": "text/x-python",
   "name": "python",
   "nbconvert_exporter": "python",
   "pygments_lexer": "ipython3",
   "version": "3.8.9"
  },
  "orig_nbformat": 4
 },
 "nbformat": 4,
 "nbformat_minor": 2
}
